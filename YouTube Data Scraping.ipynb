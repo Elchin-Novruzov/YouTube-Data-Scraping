{
 "cells": [
  {
   "cell_type": "markdown",
   "id": "7b4de6df",
   "metadata": {},
   "source": [
    "# Data scraping project using YouTube API\n",
    "\n",
    "\n",
    "## Importing libraries and setting API key"
   ]
  },
  {
   "cell_type": "code",
   "execution_count": 61,
   "id": "7d00b9a1",
   "metadata": {},
   "outputs": [],
   "source": [
    "from googleapiclient.discovery import build\n",
    "import pandas as pd\n",
    "import seaborn as sns"
   ]
  },
  {
   "cell_type": "code",
   "execution_count": 58,
   "id": "830941a5",
   "metadata": {},
   "outputs": [],
   "source": [
    "api_key = 'YOUR API HERE'\n",
    "channel_id = 'UCbulh9WdLtEXiooRcYK7SWw'\n",
    "\n",
    "youtube = build('youtube', 'v3', developerKey=api_key)"
   ]
  },
  {
   "cell_type": "markdown",
   "id": "a00f2170",
   "metadata": {},
   "source": [
    "## Extracting channel statistics"
   ]
  },
  {
   "cell_type": "code",
   "execution_count": 11,
   "id": "1b2b8e09",
   "metadata": {},
   "outputs": [],
   "source": [
    "# Function that makes request to channel via API\n",
    "def channel_stats(youtube, channel_id):\n",
    "    \n",
    "    request = youtube.channels().list(part='snippet,contentDetails,statistics', id=channel_id)\n",
    "    response = request.execute()\n",
    "    \n",
    "    return response    "
   ]
  },
  {
   "cell_type": "code",
   "execution_count": 12,
   "id": "24219eba",
   "metadata": {},
   "outputs": [
    {
     "data": {
      "text/plain": [
       "{'kind': 'youtube#channelListResponse',\n",
       " 'etag': 'bNZN3ihjyG_qz-URURBEo4vsH4w',\n",
       " 'pageInfo': {'totalResults': 1, 'resultsPerPage': 5},\n",
       " 'items': [{'kind': 'youtube#channel',\n",
       "   'etag': '56uRUf9bxNq2oW00NlnQm9x2fZM',\n",
       "   'id': 'UCbulh9WdLtEXiooRcYK7SWw',\n",
       "   'snippet': {'title': 'Metallica',\n",
       "    'description': 'The Official Metallica YouTube Channel',\n",
       "    'customUrl': 'metallica',\n",
       "    'publishedAt': '2007-01-30T00:12:55Z',\n",
       "    'thumbnails': {'default': {'url': 'https://yt3.ggpht.com/ZjcQii3sVKaPcGK3rIm8vot-qwdmm7KAHsWCjlQLsDLa_tm2kykM-Lgmty1IwQWehj7nEzXPUA=s88-c-k-c0x00ffffff-no-nd-rj',\n",
       "      'width': 88,\n",
       "      'height': 88},\n",
       "     'medium': {'url': 'https://yt3.ggpht.com/ZjcQii3sVKaPcGK3rIm8vot-qwdmm7KAHsWCjlQLsDLa_tm2kykM-Lgmty1IwQWehj7nEzXPUA=s240-c-k-c0x00ffffff-no-nd-rj',\n",
       "      'width': 240,\n",
       "      'height': 240},\n",
       "     'high': {'url': 'https://yt3.ggpht.com/ZjcQii3sVKaPcGK3rIm8vot-qwdmm7KAHsWCjlQLsDLa_tm2kykM-Lgmty1IwQWehj7nEzXPUA=s800-c-k-c0x00ffffff-no-nd-rj',\n",
       "      'width': 800,\n",
       "      'height': 800}},\n",
       "    'localized': {'title': 'Metallica',\n",
       "     'description': 'The Official Metallica YouTube Channel'},\n",
       "    'country': 'US'},\n",
       "   'contentDetails': {'relatedPlaylists': {'likes': '',\n",
       "     'uploads': 'UUbulh9WdLtEXiooRcYK7SWw'}},\n",
       "   'statistics': {'viewCount': '5472418457',\n",
       "    'subscriberCount': '8270000',\n",
       "    'hiddenSubscriberCount': False,\n",
       "    'videoCount': '1736'}}]}"
      ]
     },
     "execution_count": 12,
     "metadata": {},
     "output_type": "execute_result"
    }
   ],
   "source": [
    "# Here is the channel info in JSON format\n",
    "channel_stats(youtube, channel_id)"
   ]
  },
  {
   "cell_type": "code",
   "execution_count": 13,
   "id": "191b6029",
   "metadata": {},
   "outputs": [],
   "source": [
    "# Now let's change the function a little bit to grab the necessary information\n",
    "def channel_stats(youtube, channel_id):\n",
    "    \n",
    "    request = youtube.channels().list(part='snippet,contentDetails,statistics', id=channel_id)\n",
    "    response = request.execute()\n",
    "    \n",
    "    data = dict(Channel_name = response['items'][0]['snippet']['title'],\n",
    "                 Subs_count = response['items'][0]['statistics']['subscriberCount'],\n",
    "                 Views = response['items'][0]['statistics']['viewCount'],\n",
    "                 Video_count = response['items'][0]['statistics']['videoCount'])\n",
    "    \n",
    "    return data "
   ]
  },
  {
   "cell_type": "code",
   "execution_count": 14,
   "id": "5c33844d",
   "metadata": {},
   "outputs": [
    {
     "data": {
      "text/plain": [
       "{'Channel_name': 'Metallica',\n",
       " 'Subs_count': '8270000',\n",
       " 'Views': '5472418457',\n",
       " 'Video_count': '1736'}"
      ]
     },
     "execution_count": 14,
     "metadata": {},
     "output_type": "execute_result"
    }
   ],
   "source": [
    "# Looks prettier now\n",
    "channel_stats(youtube, channel_id)"
   ]
  },
  {
   "cell_type": "markdown",
   "id": "b1ae4017",
   "metadata": {},
   "source": [
    "### Now I want the function to take multiple channel IDs and return info about them"
   ]
  },
  {
   "cell_type": "code",
   "execution_count": 38,
   "id": "a8768a09",
   "metadata": {},
   "outputs": [],
   "source": [
    "# First let's create list with IDs\n",
    "# I've selected some rock bands' channels\n",
    "\n",
    "channel_ids = ['UCbulh9WdLtEXiooRcYK7SWw',\n",
    "               'UCB0JSO6d5ysH2Mmqz5I9rIw',\n",
    "               'UCY2qt3dw2TQJxvBrDiYGHdQ',\n",
    "               'UCGGhM6XCSJFQ6DTRffnKRIw',\n",
    "               'UCIak6JLVOjqhStxrL1Lcytw',]"
   ]
  },
  {
   "cell_type": "code",
   "execution_count": 39,
   "id": "510a992a",
   "metadata": {},
   "outputs": [],
   "source": [
    "def channel_stats(youtube, channel_ids):\n",
    "    all_data = []\n",
    "    request = youtube.channels().list(part='snippet,contentDetails,statistics', id=','.join(channel_ids))\n",
    "    response = request.execute()\n",
    "    \n",
    "    for i in range(len(response['items'])):\n",
    "        data = dict(Channel_name = response['items'][i]['snippet']['title'],\n",
    "                     Subs_count = response['items'][i]['statistics']['subscriberCount'],\n",
    "                     Views = response['items'][i]['statistics']['viewCount'],\n",
    "                     Video_count = response['items'][i]['statistics']['videoCount'])\n",
    "        all_data.append(data)\n",
    "    \n",
    "    return all_data"
   ]
  },
  {
   "cell_type": "code",
   "execution_count": 40,
   "id": "d7a305bc",
   "metadata": {},
   "outputs": [
    {
     "data": {
      "text/plain": [
       "[{'Channel_name': 'AC/DC',\n",
       "  'Subs_count': '8970000',\n",
       "  'Views': '7122410564',\n",
       "  'Video_count': '122'},\n",
       " {'Channel_name': 'Metallica',\n",
       "  'Subs_count': '8270000',\n",
       "  'Views': '5472418457',\n",
       "  'Video_count': '1736'},\n",
       " {'Channel_name': 'Pink Floyd',\n",
       "  'Subs_count': '3090000',\n",
       "  'Views': '1312829344',\n",
       "  'Video_count': '407'},\n",
       " {'Channel_name': 'Muse',\n",
       "  'Subs_count': '3410000',\n",
       "  'Views': '2464263688',\n",
       "  'Video_count': '202'},\n",
       " {'Channel_name': \"Guns N' Roses\",\n",
       "  'Subs_count': '10000000',\n",
       "  'Views': '7578840509',\n",
       "  'Video_count': '26'}]"
      ]
     },
     "execution_count": 40,
     "metadata": {},
     "output_type": "execute_result"
    }
   ],
   "source": [
    "stats = channel_stats(youtube, channel_ids)\n",
    "stats"
   ]
  },
  {
   "cell_type": "markdown",
   "id": "4d466209",
   "metadata": {},
   "source": [
    "### Loading the data into dataframe "
   ]
  },
  {
   "cell_type": "code",
   "execution_count": 41,
   "id": "7bcd8563",
   "metadata": {},
   "outputs": [],
   "source": [
    "df = pd.DataFrame(stats)"
   ]
  },
  {
   "cell_type": "code",
   "execution_count": 42,
   "id": "0feb72f6",
   "metadata": {},
   "outputs": [
    {
     "data": {
      "text/html": [
       "<div>\n",
       "<style scoped>\n",
       "    .dataframe tbody tr th:only-of-type {\n",
       "        vertical-align: middle;\n",
       "    }\n",
       "\n",
       "    .dataframe tbody tr th {\n",
       "        vertical-align: top;\n",
       "    }\n",
       "\n",
       "    .dataframe thead th {\n",
       "        text-align: right;\n",
       "    }\n",
       "</style>\n",
       "<table border=\"1\" class=\"dataframe\">\n",
       "  <thead>\n",
       "    <tr style=\"text-align: right;\">\n",
       "      <th></th>\n",
       "      <th>Channel_name</th>\n",
       "      <th>Subs_count</th>\n",
       "      <th>Views</th>\n",
       "      <th>Video_count</th>\n",
       "    </tr>\n",
       "  </thead>\n",
       "  <tbody>\n",
       "    <tr>\n",
       "      <th>0</th>\n",
       "      <td>AC/DC</td>\n",
       "      <td>8970000</td>\n",
       "      <td>7122410564</td>\n",
       "      <td>122</td>\n",
       "    </tr>\n",
       "    <tr>\n",
       "      <th>1</th>\n",
       "      <td>Metallica</td>\n",
       "      <td>8270000</td>\n",
       "      <td>5472418457</td>\n",
       "      <td>1736</td>\n",
       "    </tr>\n",
       "    <tr>\n",
       "      <th>2</th>\n",
       "      <td>Pink Floyd</td>\n",
       "      <td>3090000</td>\n",
       "      <td>1312829344</td>\n",
       "      <td>407</td>\n",
       "    </tr>\n",
       "    <tr>\n",
       "      <th>3</th>\n",
       "      <td>Muse</td>\n",
       "      <td>3410000</td>\n",
       "      <td>2464263688</td>\n",
       "      <td>202</td>\n",
       "    </tr>\n",
       "    <tr>\n",
       "      <th>4</th>\n",
       "      <td>Guns N' Roses</td>\n",
       "      <td>10000000</td>\n",
       "      <td>7578840509</td>\n",
       "      <td>26</td>\n",
       "    </tr>\n",
       "  </tbody>\n",
       "</table>\n",
       "</div>"
      ],
      "text/plain": [
       "    Channel_name Subs_count       Views Video_count\n",
       "0          AC/DC    8970000  7122410564         122\n",
       "1      Metallica    8270000  5472418457        1736\n",
       "2     Pink Floyd    3090000  1312829344         407\n",
       "3           Muse    3410000  2464263688         202\n",
       "4  Guns N' Roses   10000000  7578840509          26"
      ]
     },
     "execution_count": 42,
     "metadata": {},
     "output_type": "execute_result"
    }
   ],
   "source": [
    "df"
   ]
  },
  {
   "cell_type": "code",
   "execution_count": 43,
   "id": "3ed0ecd5",
   "metadata": {},
   "outputs": [
    {
     "data": {
      "text/plain": [
       "Channel_name    object\n",
       "Subs_count      object\n",
       "Views           object\n",
       "Video_count     object\n",
       "dtype: object"
      ]
     },
     "execution_count": 43,
     "metadata": {},
     "output_type": "execute_result"
    }
   ],
   "source": [
    "df.dtypes"
   ]
  },
  {
   "cell_type": "code",
   "execution_count": 44,
   "id": "25b9de8b",
   "metadata": {},
   "outputs": [],
   "source": [
    "# Changing dtypes from obj to numeric\n",
    "df[['Subs_count', 'Views', 'Video_count']] = df[['Subs_count', 'Views', 'Video_count']].astype('int64')"
   ]
  },
  {
   "cell_type": "code",
   "execution_count": 45,
   "id": "eef41923",
   "metadata": {},
   "outputs": [
    {
     "data": {
      "text/plain": [
       "Channel_name    object\n",
       "Subs_count       int64\n",
       "Views            int64\n",
       "Video_count      int64\n",
       "dtype: object"
      ]
     },
     "execution_count": 45,
     "metadata": {},
     "output_type": "execute_result"
    }
   ],
   "source": [
    "df.dtypes"
   ]
  },
  {
   "cell_type": "code",
   "execution_count": 63,
   "id": "4028fa30",
   "metadata": {},
   "outputs": [
    {
     "data": {
      "image/png": "[encoded data removed]",
      "text/plain": [
       "<Figure size 720x576 with 1 Axes>"
      ]
     },
     "metadata": {},
     "output_type": "display_data"
    }
   ],
   "source": [
    "# Visualizing subscribers count\n",
    "sns.set(rc={'figure.figsize':(10,8)})\n",
    "ax = sns.barplot(x='Channel_name', y='Subs_count', data=df)"
   ]
  },
  {
   "cell_type": "code",
   "execution_count": 53,
   "id": "77b04c20",
   "metadata": {},
   "outputs": [
    {
     "data": {
      "image/png": "[encoded data removed]",
      "text/plain": [
       "<Figure size 720x576 with 1 Axes>"
      ]
     },
     "metadata": {},
     "output_type": "display_data"
    }
   ],
   "source": [
    "# Views vizualisation\n",
    "ax = sns.barplot(x='Channel_name', y='Views', data=df)"
   ]
  },
  {
   "cell_type": "code",
   "execution_count": 66,
   "id": "322a0bbf",
   "metadata": {},
   "outputs": [
    {
     "data": {
      "image/png": "[encoded data removed]",
      "text/plain": [
       "<Figure size 720x576 with 1 Axes>"
      ]
     },
     "metadata": {},
     "output_type": "display_data"
    }
   ],
   "source": [
    "# Videos count\n",
    "ax = sns.barplot(x='Channel_name', y='Video_count', data=df)"
   ]
  },
  {
   "cell_type": "markdown",
   "id": "76de6e26",
   "metadata": {},
   "source": [
    "## Scraping and analyzing videos data"
   ]
  },
  {
   "cell_type": "code",
   "execution_count": 68,
   "id": "27d82491",
   "metadata": {},
   "outputs": [],
   "source": [
    "# First let's change our function to grab the playlist ID with all channel videos\n",
    "\n",
    "def channel_stats(youtube, channel_ids):\n",
    "    all_data = []\n",
    "    request = youtube.channels().list(part='snippet,contentDetails,statistics', id=','.join(channel_ids))\n",
    "    response = request.execute()\n",
    "    \n",
    "    for i in range(len(response['items'])):\n",
    "        data = dict(Channel_name = response['items'][i]['snippet']['title'],\n",
    "                     Subs_count = response['items'][i]['statistics']['subscriberCount'],\n",
    "                     Views = response['items'][i]['statistics']['viewCount'],\n",
    "                     Video_count = response['items'][i]['statistics']['videoCount'],\n",
    "                     Playlist_id = response['items'][i]['contentDetails']['relatedPlaylists']['uploads'])\n",
    "        all_data.append(data)\n",
    "    \n",
    "    return all_data"
   ]
  },
  {
   "cell_type": "code",
   "execution_count": 69,
   "id": "ff65e159",
   "metadata": {},
   "outputs": [
    {
     "data": {
      "text/html": [
       "<div>\n",
       "<style scoped>\n",
       "    .dataframe tbody tr th:only-of-type {\n",
       "        vertical-align: middle;\n",
       "    }\n",
       "\n",
       "    .dataframe tbody tr th {\n",
       "        vertical-align: top;\n",
       "    }\n",
       "\n",
       "    .dataframe thead th {\n",
       "        text-align: right;\n",
       "    }\n",
       "</style>\n",
       "<table border=\"1\" class=\"dataframe\">\n",
       "  <thead>\n",
       "    <tr style=\"text-align: right;\">\n",
       "      <th></th>\n",
       "      <th>Channel_name</th>\n",
       "      <th>Subs_count</th>\n",
       "      <th>Views</th>\n",
       "      <th>Video_count</th>\n",
       "      <th>Playlist_id</th>\n",
       "    </tr>\n",
       "  </thead>\n",
       "  <tbody>\n",
       "    <tr>\n",
       "      <th>0</th>\n",
       "      <td>Pink Floyd</td>\n",
       "      <td>3090000</td>\n",
       "      <td>1312829344</td>\n",
       "      <td>407</td>\n",
       "      <td>UUY2qt3dw2TQJxvBrDiYGHdQ</td>\n",
       "    </tr>\n",
       "    <tr>\n",
       "      <th>1</th>\n",
       "      <td>Guns N' Roses</td>\n",
       "      <td>10000000</td>\n",
       "      <td>7578840509</td>\n",
       "      <td>26</td>\n",
       "      <td>UUIak6JLVOjqhStxrL1Lcytw</td>\n",
       "    </tr>\n",
       "    <tr>\n",
       "      <th>2</th>\n",
       "      <td>AC/DC</td>\n",
       "      <td>8970000</td>\n",
       "      <td>7122410564</td>\n",
       "      <td>122</td>\n",
       "      <td>UUB0JSO6d5ysH2Mmqz5I9rIw</td>\n",
       "    </tr>\n",
       "    <tr>\n",
       "      <th>3</th>\n",
       "      <td>Muse</td>\n",
       "      <td>3410000</td>\n",
       "      <td>2464263688</td>\n",
       "      <td>202</td>\n",
       "      <td>UUGGhM6XCSJFQ6DTRffnKRIw</td>\n",
       "    </tr>\n",
       "    <tr>\n",
       "      <th>4</th>\n",
       "      <td>Metallica</td>\n",
       "      <td>8270000</td>\n",
       "      <td>5472418457</td>\n",
       "      <td>1736</td>\n",
       "      <td>UUbulh9WdLtEXiooRcYK7SWw</td>\n",
       "    </tr>\n",
       "  </tbody>\n",
       "</table>\n",
       "</div>"
      ],
      "text/plain": [
       "    Channel_name Subs_count       Views Video_count               Playlist_id\n",
       "0     Pink Floyd    3090000  1312829344         407  UUY2qt3dw2TQJxvBrDiYGHdQ\n",
       "1  Guns N' Roses   10000000  7578840509          26  UUIak6JLVOjqhStxrL1Lcytw\n",
       "2          AC/DC    8970000  7122410564         122  UUB0JSO6d5ysH2Mmqz5I9rIw\n",
       "3           Muse    3410000  2464263688         202  UUGGhM6XCSJFQ6DTRffnKRIw\n",
       "4      Metallica    8270000  5472418457        1736  UUbulh9WdLtEXiooRcYK7SWw"
      ]
     },
     "execution_count": 69,
     "metadata": {},
     "output_type": "execute_result"
    }
   ],
   "source": [
    "stats = channel_stats(youtube, channel_ids)\n",
    "df = pd.DataFrame(stats)\n",
    "df\n",
    "# Looks good"
   ]
  },
  {
   "cell_type": "code",
   "execution_count": 107,
   "id": "3d17ad41",
   "metadata": {},
   "outputs": [
    {
     "data": {
      "text/plain": [
       "'UUGGhM6XCSJFQ6DTRffnKRIw'"
      ]
     },
     "execution_count": 107,
     "metadata": {},
     "output_type": "execute_result"
    }
   ],
   "source": [
    "playlist_id = df.loc[df['Channel_name'] == 'Muse', 'Playlist_id'].iloc[0]\n",
    "playlist_id"
   ]
  },
  {
   "cell_type": "code",
   "execution_count": 108,
   "id": "1ff937cd",
   "metadata": {},
   "outputs": [],
   "source": [
    "# Gettinng video IDs\n",
    "\n",
    "def get_video_ids(youtube, playlist_id):\n",
    "    \n",
    "    request = youtube.playlistItems().list(\n",
    "                part='contentDetails',\n",
    "                playlistId = playlist_id)\n",
    "    response = request.execute()\n",
    "    \n",
    "    video_ids = []\n",
    "    for i in range(len(response['items'])):\n",
    "        video_ids.append(response['items'][i]['contentDetails']['videoId'])\n",
    "    next_page_token = response.get('nextPageToken')\n",
    "    more_pages = True\n",
    "    \n",
    "    while more_pages:\n",
    "        if next_page_token is None:\n",
    "            more_pages = False\n",
    "        else:\n",
    "            request = youtube.playlistItems().list(\n",
    "                        part='contentDetails',\n",
    "                        playlistId = playlist_id,\n",
    "                        maxResults = 50,\n",
    "                        pageToken = next_page_token)\n",
    "            response = request.execute()\n",
    "            for i in range(len(response['items'])):\n",
    "                video_ids.append(response['items'][i]['contentDetails']['videoId'])\n",
    "            next_page_token = response.get('nextPageToken')\n",
    "    \n",
    "    return video_ids"
   ]
  },
  {
   "cell_type": "code",
   "execution_count": 109,
   "id": "23e718be",
   "metadata": {},
   "outputs": [],
   "source": [
    "video_ids = get_video_ids(youtube, playlist_id)"
   ]
  },
  {
   "cell_type": "markdown",
   "id": "cc98cba5",
   "metadata": {},
   "source": [
    "### Extracting data from those videos"
   ]
  },
  {
   "cell_type": "code",
   "execution_count": 112,
   "id": "70077864",
   "metadata": {},
   "outputs": [],
   "source": [
    "def get_video_detail(youtube, video_ids):\n",
    "    \n",
    "    all_video_stats = []\n",
    "    \n",
    "    for i in range(0, len(video_ids), 50):\n",
    "        request = youtube.videos().list(part='snippet,statistics',\n",
    "                                        id = ','.join(video_ids[i:i+50]))\n",
    "        response = request.execute()\n",
    "        \n",
    "        for video in response['items']:\n",
    "            video_stats = dict(Title = video['snippet']['title'],\n",
    "                               Published = video['snippet']['publishedAt'],\n",
    "                               Views = video['statistics']['viewCount'],\n",
    "                               Likes = video['statistics']['likeCount'],\n",
    "                               Comments_count = video['statistics']['commentCount'])\n",
    "            all_video_stats.append(video_stats)\n",
    "        \n",
    "    return all_video_stats"
   ]
  },
  {
   "cell_type": "code",
   "execution_count": 132,
   "id": "35117bd6",
   "metadata": {},
   "outputs": [],
   "source": [
    "video_details = get_video_detail(youtube, video_ids)"
   ]
  },
  {
   "cell_type": "code",
   "execution_count": 117,
   "id": "da245583",
   "metadata": {},
   "outputs": [
    {
     "data": {
      "text/html": [
       "<div>\n",
       "<style scoped>\n",
       "    .dataframe tbody tr th:only-of-type {\n",
       "        vertical-align: middle;\n",
       "    }\n",
       "\n",
       "    .dataframe tbody tr th {\n",
       "        vertical-align: top;\n",
       "    }\n",
       "\n",
       "    .dataframe thead th {\n",
       "        text-align: right;\n",
       "    }\n",
       "</style>\n",
       "<table border=\"1\" class=\"dataframe\">\n",
       "  <thead>\n",
       "    <tr style=\"text-align: right;\">\n",
       "      <th></th>\n",
       "      <th>Title</th>\n",
       "      <th>Published</th>\n",
       "      <th>Views</th>\n",
       "      <th>Likes</th>\n",
       "      <th>Comments_count</th>\n",
       "    </tr>\n",
       "  </thead>\n",
       "  <tbody>\n",
       "    <tr>\n",
       "      <th>0</th>\n",
       "      <td>Muse - Fall into line #shorts</td>\n",
       "      <td>2022-04-10T14:08:18Z</td>\n",
       "      <td>74616</td>\n",
       "      <td>4455</td>\n",
       "      <td>124</td>\n",
       "    </tr>\n",
       "    <tr>\n",
       "      <th>1</th>\n",
       "      <td>MUSE - COMPLIANCE [Official Music Video]</td>\n",
       "      <td>2022-03-17T16:00:11Z</td>\n",
       "      <td>2804633</td>\n",
       "      <td>81728</td>\n",
       "      <td>6574</td>\n",
       "    </tr>\n",
       "    <tr>\n",
       "      <th>2</th>\n",
       "      <td>Muse - Compliance #shorts</td>\n",
       "      <td>2022-03-16T21:41:50Z</td>\n",
       "      <td>44069</td>\n",
       "      <td>3307</td>\n",
       "      <td>66</td>\n",
       "    </tr>\n",
       "    <tr>\n",
       "      <th>3</th>\n",
       "      <td>Muse - Compliance #shorts</td>\n",
       "      <td>2022-03-11T15:07:42Z</td>\n",
       "      <td>58508</td>\n",
       "      <td>3955</td>\n",
       "      <td>225</td>\n",
       "    </tr>\n",
       "    <tr>\n",
       "      <th>4</th>\n",
       "      <td>MUSE</td>\n",
       "      <td>2022-03-09T15:00:42Z</td>\n",
       "      <td>501328</td>\n",
       "      <td>29395</td>\n",
       "      <td>2441</td>\n",
       "    </tr>\n",
       "    <tr>\n",
       "      <th>...</th>\n",
       "      <td>...</td>\n",
       "      <td>...</td>\n",
       "      <td>...</td>\n",
       "      <td>...</td>\n",
       "      <td>...</td>\n",
       "    </tr>\n",
       "    <tr>\n",
       "      <th>197</th>\n",
       "      <td>Muse - Knights Of Cydonia: Live At Wembley Sta...</td>\n",
       "      <td>2008-03-17T13:21:12Z</td>\n",
       "      <td>28446343</td>\n",
       "      <td>126116</td>\n",
       "      <td>15907</td>\n",
       "    </tr>\n",
       "    <tr>\n",
       "      <th>198</th>\n",
       "      <td>Muse - Invincible (Video)</td>\n",
       "      <td>2007-03-22T12:29:26Z</td>\n",
       "      <td>13121277</td>\n",
       "      <td>45682</td>\n",
       "      <td>4395</td>\n",
       "    </tr>\n",
       "    <tr>\n",
       "      <th>199</th>\n",
       "      <td>Muse - Knights Of Cydonia  (Video)</td>\n",
       "      <td>2006-12-01T12:19:56Z</td>\n",
       "      <td>42393538</td>\n",
       "      <td>225388</td>\n",
       "      <td>15777</td>\n",
       "    </tr>\n",
       "    <tr>\n",
       "      <th>200</th>\n",
       "      <td>Muse - Starlight [Official Music Video]</td>\n",
       "      <td>2006-12-01T12:14:53Z</td>\n",
       "      <td>159636247</td>\n",
       "      <td>743466</td>\n",
       "      <td>28033</td>\n",
       "    </tr>\n",
       "    <tr>\n",
       "      <th>201</th>\n",
       "      <td>Muse - Supermassive Black Hole [Official Music...</td>\n",
       "      <td>2006-12-01T12:06:00Z</td>\n",
       "      <td>59140227</td>\n",
       "      <td>299545</td>\n",
       "      <td>26266</td>\n",
       "    </tr>\n",
       "  </tbody>\n",
       "</table>\n",
       "<p>202 rows × 5 columns</p>\n",
       "</div>"
      ],
      "text/plain": [
       "                                                 Title             Published  \\\n",
       "0                        Muse - Fall into line #shorts  2022-04-10T14:08:18Z   \n",
       "1             MUSE - COMPLIANCE [Official Music Video]  2022-03-17T16:00:11Z   \n",
       "2                            Muse - Compliance #shorts  2022-03-16T21:41:50Z   \n",
       "3                            Muse - Compliance #shorts  2022-03-11T15:07:42Z   \n",
       "4                                                 MUSE  2022-03-09T15:00:42Z   \n",
       "..                                                 ...                   ...   \n",
       "197  Muse - Knights Of Cydonia: Live At Wembley Sta...  2008-03-17T13:21:12Z   \n",
       "198                          Muse - Invincible (Video)  2007-03-22T12:29:26Z   \n",
       "199                 Muse - Knights Of Cydonia  (Video)  2006-12-01T12:19:56Z   \n",
       "200            Muse - Starlight [Official Music Video]  2006-12-01T12:14:53Z   \n",
       "201  Muse - Supermassive Black Hole [Official Music...  2006-12-01T12:06:00Z   \n",
       "\n",
       "         Views   Likes Comments_count  \n",
       "0        74616    4455            124  \n",
       "1      2804633   81728           6574  \n",
       "2        44069    3307             66  \n",
       "3        58508    3955            225  \n",
       "4       501328   29395           2441  \n",
       "..         ...     ...            ...  \n",
       "197   28446343  126116          15907  \n",
       "198   13121277   45682           4395  \n",
       "199   42393538  225388          15777  \n",
       "200  159636247  743466          28033  \n",
       "201   59140227  299545          26266  \n",
       "\n",
       "[202 rows x 5 columns]"
      ]
     },
     "execution_count": 117,
     "metadata": {},
     "output_type": "execute_result"
    }
   ],
   "source": [
    "# Passing data into dataframe\n",
    "videos_df = pd.DataFrame(video_details)\n",
    "videos_df"
   ]
  },
  {
   "cell_type": "code",
   "execution_count": 121,
   "id": "3fc3ae5d",
   "metadata": {},
   "outputs": [
    {
     "data": {
      "text/plain": [
       "Title             object\n",
       "Published         object\n",
       "Views             object\n",
       "Likes             object\n",
       "Comments_count    object\n",
       "dtype: object"
      ]
     },
     "execution_count": 121,
     "metadata": {},
     "output_type": "execute_result"
    }
   ],
   "source": [
    "videos_df.dtypes"
   ]
  },
  {
   "cell_type": "code",
   "execution_count": 124,
   "id": "f7340f74",
   "metadata": {},
   "outputs": [
    {
     "data": {
      "text/plain": [
       "Title             object\n",
       "Published         object\n",
       "Views              int64\n",
       "Likes              int64\n",
       "Comments_count     int64\n",
       "dtype: object"
      ]
     },
     "execution_count": 124,
     "metadata": {},
     "output_type": "execute_result"
    }
   ],
   "source": [
    "# Converting numerical values from obj to int\n",
    "videos_df[['Views', 'Likes', 'Comments_count']] = videos_df[['Views', 'Likes', 'Comments_count']].astype('int64')\n",
    "videos_df.dtypes"
   ]
  },
  {
   "cell_type": "code",
   "execution_count": 128,
   "id": "41928229",
   "metadata": {},
   "outputs": [
    {
     "data": {
      "text/html": [
       "<div>\n",
       "<style scoped>\n",
       "    .dataframe tbody tr th:only-of-type {\n",
       "        vertical-align: middle;\n",
       "    }\n",
       "\n",
       "    .dataframe tbody tr th {\n",
       "        vertical-align: top;\n",
       "    }\n",
       "\n",
       "    .dataframe thead th {\n",
       "        text-align: right;\n",
       "    }\n",
       "</style>\n",
       "<table border=\"1\" class=\"dataframe\">\n",
       "  <thead>\n",
       "    <tr style=\"text-align: right;\">\n",
       "      <th></th>\n",
       "      <th>Title</th>\n",
       "      <th>Published</th>\n",
       "      <th>Views</th>\n",
       "      <th>Likes</th>\n",
       "      <th>Comments_count</th>\n",
       "    </tr>\n",
       "  </thead>\n",
       "  <tbody>\n",
       "    <tr>\n",
       "      <th>192</th>\n",
       "      <td>Muse - Uprising [Official Video]</td>\n",
       "      <td>2009-10-09T13:15:12Z</td>\n",
       "      <td>234154397</td>\n",
       "      <td>1284513</td>\n",
       "      <td>63766</td>\n",
       "    </tr>\n",
       "    <tr>\n",
       "      <th>147</th>\n",
       "      <td>Muse - Madness</td>\n",
       "      <td>2012-09-05T07:00:58Z</td>\n",
       "      <td>153298008</td>\n",
       "      <td>791091</td>\n",
       "      <td>38214</td>\n",
       "    </tr>\n",
       "    <tr>\n",
       "      <th>200</th>\n",
       "      <td>Muse - Starlight [Official Music Video]</td>\n",
       "      <td>2006-12-01T12:14:53Z</td>\n",
       "      <td>159636247</td>\n",
       "      <td>743466</td>\n",
       "      <td>28033</td>\n",
       "    </tr>\n",
       "    <tr>\n",
       "      <th>124</th>\n",
       "      <td>Muse - Psycho [Official Lyric Video]</td>\n",
       "      <td>2015-03-12T17:47:19Z</td>\n",
       "      <td>74825494</td>\n",
       "      <td>579925</td>\n",
       "      <td>22465</td>\n",
       "    </tr>\n",
       "    <tr>\n",
       "      <th>166</th>\n",
       "      <td>Muse - Resistance</td>\n",
       "      <td>2010-02-10T12:12:41Z</td>\n",
       "      <td>119063185</td>\n",
       "      <td>465602</td>\n",
       "      <td>21370</td>\n",
       "    </tr>\n",
       "    <tr>\n",
       "      <th>191</th>\n",
       "      <td>Muse - Undisclosed Desires</td>\n",
       "      <td>2009-11-04T10:54:29Z</td>\n",
       "      <td>105970287</td>\n",
       "      <td>459342</td>\n",
       "      <td>20301</td>\n",
       "    </tr>\n",
       "    <tr>\n",
       "      <th>187</th>\n",
       "      <td>Muse - Hysteria [Official Music Video]</td>\n",
       "      <td>2010-02-08T16:01:25Z</td>\n",
       "      <td>93557645</td>\n",
       "      <td>440852</td>\n",
       "      <td>15195</td>\n",
       "    </tr>\n",
       "    <tr>\n",
       "      <th>181</th>\n",
       "      <td>Muse - Feeling Good (Video)</td>\n",
       "      <td>2010-02-08T16:11:54Z</td>\n",
       "      <td>64975141</td>\n",
       "      <td>419473</td>\n",
       "      <td>14075</td>\n",
       "    </tr>\n",
       "    <tr>\n",
       "      <th>162</th>\n",
       "      <td>Muse - Time Is Running Out (video)</td>\n",
       "      <td>2010-02-16T09:23:58Z</td>\n",
       "      <td>71173020</td>\n",
       "      <td>375543</td>\n",
       "      <td>8319</td>\n",
       "    </tr>\n",
       "    <tr>\n",
       "      <th>201</th>\n",
       "      <td>Muse - Supermassive Black Hole [Official Music...</td>\n",
       "      <td>2006-12-01T12:06:00Z</td>\n",
       "      <td>59140227</td>\n",
       "      <td>299545</td>\n",
       "      <td>26266</td>\n",
       "    </tr>\n",
       "  </tbody>\n",
       "</table>\n",
       "</div>"
      ],
      "text/plain": [
       "                                                 Title             Published  \\\n",
       "192                   Muse - Uprising [Official Video]  2009-10-09T13:15:12Z   \n",
       "147                                     Muse - Madness  2012-09-05T07:00:58Z   \n",
       "200            Muse - Starlight [Official Music Video]  2006-12-01T12:14:53Z   \n",
       "124               Muse - Psycho [Official Lyric Video]  2015-03-12T17:47:19Z   \n",
       "166                                  Muse - Resistance  2010-02-10T12:12:41Z   \n",
       "191                         Muse - Undisclosed Desires  2009-11-04T10:54:29Z   \n",
       "187             Muse - Hysteria [Official Music Video]  2010-02-08T16:01:25Z   \n",
       "181                        Muse - Feeling Good (Video)  2010-02-08T16:11:54Z   \n",
       "162                 Muse - Time Is Running Out (video)  2010-02-16T09:23:58Z   \n",
       "201  Muse - Supermassive Black Hole [Official Music...  2006-12-01T12:06:00Z   \n",
       "\n",
       "         Views    Likes  Comments_count  \n",
       "192  234154397  1284513           63766  \n",
       "147  153298008   791091           38214  \n",
       "200  159636247   743466           28033  \n",
       "124   74825494   579925           22465  \n",
       "166  119063185   465602           21370  \n",
       "191  105970287   459342           20301  \n",
       "187   93557645   440852           15195  \n",
       "181   64975141   419473           14075  \n",
       "162   71173020   375543            8319  \n",
       "201   59140227   299545           26266  "
      ]
     },
     "execution_count": 128,
     "metadata": {},
     "output_type": "execute_result"
    }
   ],
   "source": [
    "# Now let's look at top 10 most liked videos of channel\n",
    "top10_liked = videos_df.sort_values(by='Likes', ascending=False).head(10)\n",
    "top10_liked"
   ]
  },
  {
   "cell_type": "code",
   "execution_count": 158,
   "id": "39101ef8",
   "metadata": {},
   "outputs": [
    {
     "data": {
      "text/plain": [
       "<AxesSubplot:xlabel='Likes', ylabel='Title'>"
      ]
     },
     "execution_count": 158,
     "metadata": {},
     "output_type": "execute_result"
    },
    {
     "data": {
      "image/png": "[encoded data removed]",
      "text/plain": [
       "<Figure size 720x576 with 1 Axes>"
      ]
     },
     "metadata": {},
     "output_type": "display_data"
    }
   ],
   "source": [
    "# Visualizing likes count\n",
    "sns.barplot(x='Likes', y='Title', data=top10_liked)"
   ]
  },
  {
   "cell_type": "code",
   "execution_count": 146,
   "id": "82193f9f",
   "metadata": {},
   "outputs": [
    {
     "data": {
      "text/plain": [
       "0      Apr\n",
       "1      Mar\n",
       "2      Mar\n",
       "3      Mar\n",
       "4      Mar\n",
       "      ... \n",
       "197    Mar\n",
       "198    Mar\n",
       "199    Dec\n",
       "200    Dec\n",
       "201    Dec\n",
       "Name: Month, Length: 202, dtype: object"
      ]
     },
     "execution_count": 146,
     "metadata": {},
     "output_type": "execute_result"
    }
   ],
   "source": [
    "# Now I wanna see published videos count by months \n",
    "# First I'm creating new column called 'Month'\n",
    "\n",
    "videos_df['Month'] = pd.to_datetime(videos_df['Published']).dt.strftime('%b')\n",
    "videos_df.Month"
   ]
  },
  {
   "cell_type": "code",
   "execution_count": 147,
   "id": "3520df7e",
   "metadata": {},
   "outputs": [
    {
     "data": {
      "text/html": [
       "<div>\n",
       "<style scoped>\n",
       "    .dataframe tbody tr th:only-of-type {\n",
       "        vertical-align: middle;\n",
       "    }\n",
       "\n",
       "    .dataframe tbody tr th {\n",
       "        vertical-align: top;\n",
       "    }\n",
       "\n",
       "    .dataframe thead th {\n",
       "        text-align: right;\n",
       "    }\n",
       "</style>\n",
       "<table border=\"1\" class=\"dataframe\">\n",
       "  <thead>\n",
       "    <tr style=\"text-align: right;\">\n",
       "      <th></th>\n",
       "      <th>Month</th>\n",
       "      <th>size</th>\n",
       "    </tr>\n",
       "  </thead>\n",
       "  <tbody>\n",
       "    <tr>\n",
       "      <th>0</th>\n",
       "      <td>Apr</td>\n",
       "      <td>17</td>\n",
       "    </tr>\n",
       "    <tr>\n",
       "      <th>1</th>\n",
       "      <td>Aug</td>\n",
       "      <td>9</td>\n",
       "    </tr>\n",
       "    <tr>\n",
       "      <th>2</th>\n",
       "      <td>Dec</td>\n",
       "      <td>11</td>\n",
       "    </tr>\n",
       "    <tr>\n",
       "      <th>3</th>\n",
       "      <td>Feb</td>\n",
       "      <td>41</td>\n",
       "    </tr>\n",
       "    <tr>\n",
       "      <th>4</th>\n",
       "      <td>Jan</td>\n",
       "      <td>12</td>\n",
       "    </tr>\n",
       "    <tr>\n",
       "      <th>5</th>\n",
       "      <td>Jul</td>\n",
       "      <td>8</td>\n",
       "    </tr>\n",
       "    <tr>\n",
       "      <th>6</th>\n",
       "      <td>Jun</td>\n",
       "      <td>19</td>\n",
       "    </tr>\n",
       "    <tr>\n",
       "      <th>7</th>\n",
       "      <td>Mar</td>\n",
       "      <td>22</td>\n",
       "    </tr>\n",
       "    <tr>\n",
       "      <th>8</th>\n",
       "      <td>May</td>\n",
       "      <td>18</td>\n",
       "    </tr>\n",
       "    <tr>\n",
       "      <th>9</th>\n",
       "      <td>Nov</td>\n",
       "      <td>31</td>\n",
       "    </tr>\n",
       "    <tr>\n",
       "      <th>10</th>\n",
       "      <td>Oct</td>\n",
       "      <td>8</td>\n",
       "    </tr>\n",
       "    <tr>\n",
       "      <th>11</th>\n",
       "      <td>Sep</td>\n",
       "      <td>6</td>\n",
       "    </tr>\n",
       "  </tbody>\n",
       "</table>\n",
       "</div>"
      ],
      "text/plain": [
       "   Month  size\n",
       "0    Apr    17\n",
       "1    Aug     9\n",
       "2    Dec    11\n",
       "3    Feb    41\n",
       "4    Jan    12\n",
       "5    Jul     8\n",
       "6    Jun    19\n",
       "7    Mar    22\n",
       "8    May    18\n",
       "9    Nov    31\n",
       "10   Oct     8\n",
       "11   Sep     6"
      ]
     },
     "execution_count": 147,
     "metadata": {},
     "output_type": "execute_result"
    }
   ],
   "source": [
    "# Then grouping by 'Month' coulumn to see videos count per every month\n",
    " \n",
    "videos_per_m = videos_df.groupby('Month', as_index=False).size()\n",
    "videos_per_m"
   ]
  },
  {
   "cell_type": "code",
   "execution_count": 190,
   "id": "104668db",
   "metadata": {},
   "outputs": [
    {
     "data": {
      "image/png": "[encoded data removed]",
      "text/plain": [
       "<Figure size 720x576 with 1 Axes>"
      ]
     },
     "metadata": {},
     "output_type": "display_data"
    }
   ],
   "source": [
    "explode = [0.1,0.1,0.1,0.3,0.1,0.1,0.1,0.1,0.1,0.1,0.1,0.1]\n",
    "plt.pie(videos_per_m['size'], labels=videos_per_m['Month'], autopct = '%0.0f%%', \n",
    "        shadow=True, explode=explode, colors = sns.color_palette('bright'))\n",
    "plt.show()"
   ]
  }
 ],
 "metadata": {
  "kernelspec": {
   "display_name": "Python 3 (ipykernel)",
   "language": "python",
   "name": "python3"
  },
  "language_info": {
   "codemirror_mode": {
    "name": "ipython",
    "version": 3
   },
   "file_extension": ".py",
   "mimetype": "text/x-python",
   "name": "python",
   "nbconvert_exporter": "python",
   "pygments_lexer": "ipython3",
   "version": "3.9.1"
  }
 },
 "nbformat": 4,
 "nbformat_minor": 5
}
